{
 "cells": [
  {
   "cell_type": "markdown",
   "id": "2da0dac3",
   "metadata": {},
   "source": [
    "Previously we used a three layer neural net to identify low resolution images ($8\\times$8) of handwritten numbers. Here we'll consider higher resolution images ($28\\times 28$) of the same and add convolutional structure to help the neural net learn the correct labels for them. First we load the data and perform the usual transformations to prepare it for the input layer."
   ]
  },
  {
   "cell_type": "code",
   "execution_count": 36,
   "id": "6215980c",
   "metadata": {},
   "outputs": [],
   "source": [
    "import numpy as np\n",
    "import matplotlib.pyplot as plt\n",
    "import seaborn as sns; sns.set()\n",
    "from keras.datasets import mnist\n",
    "\n",
    "# normalize the data, hot-one encode the target data; create\n",
    "# training and test sets\n",
    "(Xtrain, ytrain), (Xtest, ytest) = mnist.load_data()\n",
    "Xtrain = Xtrain[0:20000]\n",
    "ytrain = ytrain[0:20000]\n",
    "y_pre_train = ytrain\n",
    "y_pre_test  = ytest\n",
    "ytrain = np.zeros((y_pre_train.shape[0],10))\n",
    "ytest  = np.zeros((y_pre_test.shape[0],10))\n",
    "for i in range(y_pre_train.shape[0]):\n",
    "    ytrain[i,y_pre_train[i]]=1.0\n",
    "for i in range(y_pre_test.shape[0]):\n",
    "    ytest[i,y_pre_test[i]]=1.0\n",
    "Xtrain = (Xtrain-Xtrain.mean())/Xtrain.var()\n",
    "Xtest  = (Xtest-Xtest.mean())/Xtest.var()"
   ]
  },
  {
   "cell_type": "markdown",
   "id": "2252b2fd",
   "metadata": {},
   "source": [
    "Next we define a routine that will capture mini-frames of the input image, which will later be transformed into numbers via the convolution kernels."
   ]
  },
  {
   "cell_type": "code",
   "execution_count": 2,
   "id": "963c7c31",
   "metadata": {},
   "outputs": [],
   "source": [
    "# moving window of size frame_rows x frame_cols moves over\n",
    "# every position in the image, such that the frame does not\n",
    "# move outside the image, and captures part of the image\n",
    "# for each of those positions\n",
    "def capture_frames(image,frame_rows,frame_cols):\n",
    "    image_rows = image.shape[0]\n",
    "    image_cols = image.shape[1]\n",
    "    frame_pos_horz = image_cols-frame_cols+1\n",
    "    frame_pos_vert = image_rows-frame_rows+1\n",
    "    captured_frames = np.zeros((frame_pos_horz*frame_pos_vert, \\\n",
    "                               frame_rows,frame_cols))\n",
    "    for i in range(frame_pos_horz):\n",
    "        for j in range(frame_pos_vert):\n",
    "            single_frame = image[i:i+frame_rows,j:j+frame_cols]\n",
    "            captured_frames[frame_pos_vert*i+j,:,:]=single_frame\n",
    "    return captured_frames.reshape(frame_pos_horz*frame_pos_vert, \\\n",
    "                                   frame_rows*frame_cols).T"
   ]
  },
  {
   "cell_type": "markdown",
   "id": "53e66257",
   "metadata": {},
   "source": [
    "As usual, we'll also need to define the activation functions along with there derivatives."
   ]
  },
  {
   "cell_type": "code",
   "execution_count": 3,
   "id": "4a0df470",
   "metadata": {},
   "outputs": [],
   "source": [
    "# define the activation functions and their derivatives\n",
    "# layer_num = 1 will return the function for layer 1 and\n",
    "# layer_num = 2 will return that for layer 2\n",
    "def activ_func(x,layer_num):\n",
    "    if (layer_num==1):\n",
    "        return np.tanh(x)\n",
    "    elif (layer_num==2):\n",
    "        return np.exp(x)/np.exp(x).sum()\n",
    "\n",
    "def activ_deriv(x,layer_num):\n",
    "    if (layer_num==1):\n",
    "        return 1.0-np.tanh(x)**2.0\n",
    "    elif (layer_num==2):\n",
    "        soft_max = np.exp(x)/np.exp(x).sum()\n",
    "        return soft_max*(1.0-soft_max)\n",
    "\n",
    "def dirac_delta(x,y):\n",
    "    return (x==y).astype('int64')"
   ]
  },
  {
   "cell_type": "markdown",
   "id": "101199e1",
   "metadata": {},
   "source": [
    "Now we'll initialize the kernels and the weights for the fully connected parts of the network."
   ]
  },
  {
   "cell_type": "code",
   "execution_count": 4,
   "id": "669aea85",
   "metadata": {},
   "outputs": [],
   "source": [
    "frame_rows = 8\n",
    "frame_cols = 8\n",
    "num_kernels= 9\n",
    "image_rows = Xtrain[0].shape[0]\n",
    "image_cols = Xtrain[0].shape[1]\n",
    "frame_pos_horz = image_cols-frame_cols+1\n",
    "frame_pos_vert = image_rows-frame_rows+1\n",
    "# N.B.: if the weights are initialized lying too close together,\n",
    "# gradient descent will not find many distinct kernels!\n",
    "kernels = 2.0*np.random.random((num_kernels, \\\n",
    "                               frame_rows*frame_cols))-1.0\n",
    "grad_kernel = np.zeros((num_kernels,frame_rows*frame_cols))\n",
    "\n",
    "# set the number of neurons in each fully connected layer and \n",
    "# initialize the weights\n",
    "num_input  = frame_pos_horz*frame_pos_vert\n",
    "num_hidden = int(num_input/2.0)\n",
    "num_hidden = 100\n",
    "num_output = 10\n",
    "weights_01 = 2.0*np.random.random((num_input,num_hidden))-1.0\n",
    "weights_12 = 2.0*np.random.random((num_hidden,num_output))-1.0"
   ]
  },
  {
   "cell_type": "markdown",
   "id": "b2567df2",
   "metadata": {},
   "source": [
    "Now for the big part: to iterate over the images and train the neural net!"
   ]
  },
  {
   "cell_type": "code",
   "execution_count": 5,
   "id": "aa26eda1",
   "metadata": {},
   "outputs": [
    {
     "name": "stdout",
     "output_type": "stream",
     "text": [
      "0 0.5708498546098345\n",
      "1 0.238968805822179\n",
      "2 0.18376262704300791\n",
      "3 0.15884420078434203\n",
      "4 0.14349670143331575\n",
      "5 0.13303330132005825\n",
      "6 0.12524633753039854\n",
      "7 0.1190555095240238\n",
      "8 0.11391619250773542\n",
      "9 0.1094220182872265\n",
      "10 0.10543376418131505\n",
      "11 0.10185387081060268\n",
      "12 0.09860016478135072\n",
      "converged at iteration:  12\n",
      "average error:  0.09860016478135072\n"
     ]
    }
   ],
   "source": [
    "alpha = 0.01\n",
    "max_iter = 50\n",
    "err_tol  = 0.1\n",
    "err = 1000.0\n",
    "iter = 0\n",
    "# toggle dropout on or off\n",
    "dropout = 0\n",
    "while ((iter<max_iter) & (err>err_tol)):\n",
    "    err = 0.0\n",
    "    for n in range(Xtrain.shape[0]):\n",
    "        # forward propagation convolution + pooling steps\n",
    "        image = Xtrain[n]\n",
    "        image_frames = capture_frames(image, \\\n",
    "                                      frame_rows,frame_cols)\n",
    "\n",
    "        # form layer_0 pre-pooling step\n",
    "        layer_0_pre = np.zeros((num_kernels,image_frames.shape[1]))\n",
    "        for k in range(num_kernels):\n",
    "            layer_0_pre[k,:]= \\\n",
    "                np.matmul(kernels[k].reshape(1,len(kernels[k])), \\\n",
    "                          image_frames)\n",
    "        which_kernel = np.argmax(layer_0_pre,axis=0)\n",
    "\n",
    "        # pooling step\n",
    "        layer_0 = \\\n",
    "            np.max(layer_0_pre,axis=0).reshape(1,layer_0_pre.shape[1])\n",
    "        layer_0 = activ_func(layer_0,1)\n",
    "        # forward propagation to the other layers\n",
    "        layer_1 = activ_func(np.matmul(layer_0,weights_01),1)\n",
    "        if (dropout == 1):\n",
    "            dropout_mask = \\\n",
    "                np.random.randint(0,2,layer_1.shape)\n",
    "            layer_1 *= 2.0*dropout_mask\n",
    "        layer_2 = activ_func(np.matmul(layer_1,weights_12),2)\n",
    "\n",
    "        # backprop step for the fully connected neurons\n",
    "        delta = layer_2-ytrain[n]\n",
    "        deriv_vec2   = activ_deriv(layer_2,2)\n",
    "        deriv_diag2  = np.diag(deriv_vec2.ravel())\n",
    "        gradient_12  = \\\n",
    "                np.outer(layer_1,np.matmul(delta,deriv_diag2))\n",
    "        deriv_vec1   = activ_deriv(layer_1,1)\n",
    "        deriv_diag1  = np.diag(deriv_vec1.ravel())\n",
    "        if (dropout==1):\n",
    "            dropout_diag = np.diag(dropout_mask.ravel())\n",
    "            deriv_diag1 *= dropout_diag\n",
    "        omega = np.matmul(weights_12.T,deriv_diag1)\n",
    "        omega = np.matmul(deriv_diag2,omega)\n",
    "        delta_omega = np.matmul(delta,omega)\n",
    "        gradient_01 = np.outer(layer_0,delta_omega)\n",
    "\n",
    "        weights_12 -= alpha*gradient_12\n",
    "        weights_01 -= alpha*gradient_01\n",
    "\n",
    "        # backprop step for the kernel corrections\n",
    "        grad_kernel_indices = \\\n",
    "            np.indices((grad_kernel.shape[0],grad_kernel.shape[1]))\n",
    "        for k in range(num_kernels):\n",
    "            mask = (which_kernel==k).astype('int64')\n",
    "            image_frames_masked = image_frames*mask\n",
    "            deriv_vec0   = activ_deriv(layer_0,1)\n",
    "            deriv_diag0  = np.diag(deriv_vec0.ravel())\n",
    "            intermed_0 = np.matmul(deriv_diag0,image_frames_masked.T)\n",
    "            intermed_1 = np.matmul(weights_01.T,intermed_0)\n",
    "            intermed_2 = np.matmul(deriv_diag1,intermed_1)\n",
    "            intermed_3 = np.matmul(weights_12.T,intermed_2)\n",
    "            intermed_4 = np.matmul(deriv_diag2,intermed_3)\n",
    "            grad_kernel[k] = np.matmul(delta,intermed_4)\n",
    "        kernels -= alpha*grad_kernel\n",
    "\n",
    "        err += np.sum(delta**2.0)\n",
    "    err /= Xtrain.shape[0]\n",
    "    print(iter,err)\n",
    "    iter += 1\n",
    "\n",
    "if (iter<max_iter):\n",
    "    print(\"converged at iteration: \",iter-1)\n",
    "    print(\"average error: \",err)\n",
    "else:\n",
    "    print(\"failed to converge\")"
   ]
  },
  {
   "cell_type": "markdown",
   "id": "0616df0d",
   "metadata": {},
   "source": [
    "Now let's check the out-of-sample error."
   ]
  },
  {
   "cell_type": "code",
   "execution_count": 6,
   "id": "a2dfd227",
   "metadata": {},
   "outputs": [
    {
     "name": "stdout",
     "output_type": "stream",
     "text": [
      "average test set error: 0.10490452221860885\n",
      "percent correct: 92.57\n"
     ]
    }
   ],
   "source": [
    "err = 0.0\n",
    "num_correct = 0\n",
    "for n in range(Xtest.shape[0]):\n",
    "    # forward propagation convolution + pooling steps\n",
    "    image = Xtest[n].reshape(image_rows,image_cols)\n",
    "    image_frames = capture_frames(image, \\\n",
    "                                  frame_rows,frame_cols)\n",
    "\n",
    "    # form layer_0 pre-pooling step\n",
    "    layer_0_pre = np.zeros((num_kernels,image_frames.shape[1]))\n",
    "    for k in range(num_kernels):\n",
    "        layer_0_pre[k,:]= \\\n",
    "            np.matmul(kernels[k].reshape(1,len(kernels[k])), \\\n",
    "                      image_frames)\n",
    "    which_kernel = np.argmax(layer_0_pre,axis=0)\n",
    "\n",
    "    # pooling step\n",
    "    layer_0 = \\\n",
    "        np.max(layer_0_pre,axis=0).reshape(1,layer_0_pre.shape[1])\n",
    "\n",
    "    # forward propagation to the other layers\n",
    "    layer_1 = activ_func(np.matmul(layer_0,weights_01),1)\n",
    "    layer_2 = activ_func(np.matmul(layer_1,weights_12),2)\n",
    "\n",
    "    delta = layer_2.ravel()-ytest[n]\n",
    "    err += np.sum(delta**2.0)\n",
    "    if (layer_2.ravel().round()==ytest[n]).all():\n",
    "        num_correct += 1\n",
    "err /= Xtest.shape[0]\n",
    "print(\"average test set error:\",err)\n",
    "frac_correct = num_correct/Xtest.shape[0]\n",
    "print(\"percent correct:\",frac_correct*100.0)"
   ]
  },
  {
   "cell_type": "markdown",
   "id": "ae5c85eb",
   "metadata": {},
   "source": [
    "Since we got pretty decent results, let's save the kernels and weights in output files in case we want to use them again later."
   ]
  },
  {
   "cell_type": "code",
   "execution_count": 7,
   "id": "211f4ccb",
   "metadata": {},
   "outputs": [],
   "source": [
    "# save the kernels and weights in csv format\n",
    "import pandas as pd\n",
    "kernels = pd.DataFrame(kernels)\n",
    "weights_01 = pd.DataFrame(weights_01)\n",
    "weights_12 = pd.DataFrame(weights_12)\n",
    "kernels.to_csv('kernels.csv',index=False)\n",
    "weights_01.to_csv('weights_01.csv',index=False)\n",
    "weights_12.to_csv('weights_12.csv',index=False)"
   ]
  },
  {
   "cell_type": "markdown",
   "id": "54f4411f",
   "metadata": {},
   "source": [
    "Let's have a look at the kernels that our convolutional net found."
   ]
  },
  {
   "cell_type": "code",
   "execution_count": 14,
   "id": "471b271e",
   "metadata": {},
   "outputs": [
    {
     "data": {
      "image/png": "[encoded data removed]",
      "text/plain": [
       "<Figure size 640x480 with 9 Axes>"
      ]
     },
     "metadata": {},
     "output_type": "display_data"
    }
   ],
   "source": [
    "def show_kernels(num_kernels,frame_rows,frame_cols):\n",
    "    kernels = pd.read_csv('kernels.csv').to_numpy()\n",
    "    kernels = kernels.reshape(num_kernels,frame_rows,frame_cols)\n",
    "\n",
    "    num_plot_rows = round(num_kernels/3.0)\n",
    "    num_plot_cols = 3\n",
    "    fig, axes = plt.subplots(num_plot_rows,num_plot_cols)\n",
    "    for i, ax in enumerate(axes.flat):\n",
    "        if (i<num_kernels):\n",
    "            ax.imshow(kernels[i])\n",
    "            ax.xaxis.set_tick_params(labelbottom=False)\n",
    "            ax.yaxis.set_tick_params(labelleft=False)\n",
    "            ax.grid(None)\n",
    "    plt.show()\n",
    "    \n",
    "show_kernels(num_kernels,frame_rows,frame_cols)"
   ]
  },
  {
   "cell_type": "markdown",
   "id": "ac2e6f1b",
   "metadata": {},
   "source": [
    "We can also see what an image filtered by each of these kernels looks like."
   ]
  },
  {
   "cell_type": "code",
   "execution_count": 35,
   "id": "36580e58",
   "metadata": {},
   "outputs": [
    {
     "data": {
      "image/png": "[encoded data removed]",
      "text/plain": [
       "<Figure size 640x480 with 9 Axes>"
      ]
     },
     "metadata": {},
     "output_type": "display_data"
    }
   ],
   "source": [
    "image = Xtrain[92]\n",
    "kernels = pd.read_csv('kernels.csv').to_numpy()\n",
    "num_kernels = kernels.shape[0]\n",
    "\n",
    "image_frames = capture_frames(image,frame_rows,frame_cols)\n",
    "\n",
    "layer_0_pre = np.zeros((num_kernels,image_frames.shape[1]))\n",
    "for k in range(num_kernels):\n",
    "    layer_0_pre[k,:]= \\\n",
    "        np.matmul(kernels[k].reshape(1,len(kernels[k])), \\\n",
    "                  image_frames)\n",
    "\n",
    "filtered_rows = image_rows-frame_rows+1\n",
    "filtered_cols = image_cols-frame_cols+1\n",
    "filtered_img = layer_0_pre.reshape(num_kernels,filtered_rows, \\\n",
    "                                               filtered_cols)\n",
    "\n",
    "num_plot_rows = round(num_kernels/6.0)+1\n",
    "num_plot_cols = num_plot_rows\n",
    "fig, axes = plt.subplots(num_plot_rows,num_plot_cols)\n",
    "for i, ax in enumerate(axes.flat):\n",
    "    ax.imshow(filtered_img[i])\n",
    "    ax.xaxis.set_tick_params(labelbottom=False)\n",
    "    ax.yaxis.set_tick_params(labelleft=False)\n",
    "    ax.grid(None)\n",
    "plt.show()"
   ]
  },
  {
   "cell_type": "code",
   "execution_count": null,
   "id": "5b8757a4",
   "metadata": {},
   "outputs": [],
   "source": []
  }
 ],
 "metadata": {
  "kernelspec": {
   "display_name": "Python 3 (ipykernel)",
   "language": "python",
   "name": "python3"
  },
  "language_info": {
   "codemirror_mode": {
    "name": "ipython",
    "version": 3
   },
   "file_extension": ".py",
   "mimetype": "text/x-python",
   "name": "python",
   "nbconvert_exporter": "python",
   "pygments_lexer": "ipython3",
   "version": "3.9.13"
  }
 },
 "nbformat": 4,
 "nbformat_minor": 5
}
