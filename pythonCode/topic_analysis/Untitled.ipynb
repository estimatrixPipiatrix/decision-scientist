{
 "cells": [
  {
   "cell_type": "code",
   "execution_count": 1,
   "id": "fd0f2784",
   "metadata": {},
   "outputs": [
    {
     "name": "stdout",
     "output_type": "stream",
     "text": [
      "['took', 'sqrt', 'added', 'gaussian', 'noise', 'used', 'polynomial', 'regression', 'fold', 'cross', 'validation', 'get', 'best', 'fit', 'polynomial', 'degree', 'nqbwbrwrjf']\n",
      "[(0, 1), (1, 1), (2, 1), (3, 1), (4, 1), (5, 1), (6, 1), (7, 1), (8, 1), (9, 1), (10, 2), (11, 1), (12, 1), (13, 1), (14, 1), (15, 1)]\n"
     ]
    },
    {
     "name": "stderr",
     "output_type": "stream",
     "text": [
      "[nltk_data] Downloading package stopwords to /home/kayla/nltk_data...\n",
      "[nltk_data]   Package stopwords is already up-to-date!\n"
     ]
    },
    {
     "name": "stdout",
     "output_type": "stream",
     "text": [
      "[(0,\n",
      "  '0.010*\"like\" + 0.010*\"really\" + 0.009*\"something\" + 0.007*\"time\" + '\n",
      "  '0.006*\"make\" + 0.006*\"well\" + 0.006*\"good\" + 0.005*\"say\" + 0.005*\"also\" + '\n",
      "  '0.005*\"could\"'),\n",
      " (1,\n",
      "  '0.010*\"like\" + 0.008*\"would\" + 0.007*\"thanks\" + 0.006*\"fr\" + 0.005*\"way\" + '\n",
      "  '0.005*\"ok\" + 0.004*\"need\" + 0.004*\"hard\" + 0.004*\"think\" + 0.004*\"time\"'),\n",
      " (2,\n",
      "  '0.014*\"like\" + 0.009*\"latin\" + 0.007*\"time\" + 0.006*\"going\" + 0.006*\"would\" '\n",
      "  '+ 0.006*\"need\" + 0.006*\"maybe\" + 0.005*\"good\" + 0.005*\"trying\" + '\n",
      "  '0.005*\"could\"'),\n",
      " (3,\n",
      "  '0.008*\"like\" + 0.008*\"get\" + 0.007*\"good\" + 0.006*\"seems\" + 0.005*\"people\" '\n",
      "  '+ 0.004*\"time\" + 0.004*\"twitter\" + 0.003*\"would\" + 0.003*\"still\" + '\n",
      "  '0.003*\"also\"'),\n",
      " (4,\n",
      "  '0.029*\"like\" + 0.011*\"would\" + 0.006*\"make\" + 0.006*\"luv\" + 0.005*\"right\" + '\n",
      "  '0.005*\"ur\" + 0.004*\"time\" + 0.004*\"omg\" + 0.004*\"always\" + 0.004*\"latin\"'),\n",
      " (5,\n",
      "  '0.009*\"like\" + 0.008*\"good\" + 0.005*\"sure\" + 0.005*\"made\" + 0.005*\"bad\" + '\n",
      "  '0.004*\"twitter\" + 0.004*\"someone\" + 0.004*\"get\" + 0.004*\"first\" + '\n",
      "  '0.004*\"make\"'),\n",
      " (6,\n",
      "  '0.009*\"would\" + 0.009*\"like\" + 0.008*\"yeah\" + 0.007*\"think\" + 0.006*\"could\" '\n",
      "  '+ 0.006*\"theory\" + 0.006*\"thinking\" + 0.006*\"good\" + 0.005*\"real\" + '\n",
      "  '0.005*\"well\"'),\n",
      " (7,\n",
      "  '0.041*\"like\" + 0.006*\"would\" + 0.005*\"good\" + 0.005*\"people\" + 0.005*\"feel\" '\n",
      "  '+ 0.005*\"get\" + 0.004*\"twitter\" + 0.004*\"also\" + 0.004*\"used\" + '\n",
      "  '0.004*\"thinking\"'),\n",
      " (8,\n",
      "  '0.010*\"get\" + 0.010*\"like\" + 0.008*\"think\" + 0.007*\"say\" + 0.007*\"could\" + '\n",
      "  '0.007*\"would\" + 0.006*\"people\" + 0.005*\"also\" + 0.005*\"thinking\" + '\n",
      "  '0.005*\"time\"'),\n",
      " (9,\n",
      "  '0.007*\"people\" + 0.007*\"like\" + 0.006*\"need\" + 0.006*\"would\" + 0.006*\"say\" '\n",
      "  '+ 0.005*\"day\" + 0.005*\"yeah\" + 0.005*\"really\" + 0.005*\"also\" + '\n",
      "  '0.005*\"think\"')]\n"
     ]
    },
    {
     "name": "stderr",
     "output_type": "stream",
     "text": [
      "/home/kayla/anaconda3/lib/python3.9/site-packages/past/builtins/misc.py:45: DeprecationWarning: the imp module is deprecated in favour of importlib; see the module's documentation for alternative uses\n",
      "  from imp import reload\n",
      "/home/kayla/anaconda3/lib/python3.9/site-packages/pyLDAvis/_prepare.py:246: FutureWarning: In a future version of pandas all arguments of DataFrame.drop except for the argument 'labels' will be keyword-only.\n",
      "  default_term_info = default_term_info.sort_values(\n",
      "/home/kayla/anaconda3/lib/python3.9/site-packages/past/builtins/misc.py:45: DeprecationWarning: the imp module is deprecated in favour of importlib; see the module's documentation for alternative uses\n",
      "  from imp import reload\n",
      "/home/kayla/anaconda3/lib/python3.9/site-packages/past/builtins/misc.py:45: DeprecationWarning: the imp module is deprecated in favour of importlib; see the module's documentation for alternative uses\n",
      "  from imp import reload\n",
      "/home/kayla/anaconda3/lib/python3.9/site-packages/past/builtins/misc.py:45: DeprecationWarning: the imp module is deprecated in favour of importlib; see the module's documentation for alternative uses\n",
      "  from imp import reload\n",
      "/home/kayla/anaconda3/lib/python3.9/site-packages/past/builtins/misc.py:45: DeprecationWarning: the imp module is deprecated in favour of importlib; see the module's documentation for alternative uses\n",
      "  from imp import reload\n",
      "/home/kayla/anaconda3/lib/python3.9/site-packages/past/builtins/misc.py:45: DeprecationWarning: the imp module is deprecated in favour of importlib; see the module's documentation for alternative uses\n",
      "  from imp import reload\n",
      "/home/kayla/anaconda3/lib/python3.9/site-packages/past/builtins/misc.py:45: DeprecationWarning: the imp module is deprecated in favour of importlib; see the module's documentation for alternative uses\n",
      "  from imp import reload\n",
      "/home/kayla/anaconda3/lib/python3.9/site-packages/past/builtins/misc.py:45: DeprecationWarning: the imp module is deprecated in favour of importlib; see the module's documentation for alternative uses\n",
      "  from imp import reload\n",
      "/home/kayla/anaconda3/lib/python3.9/site-packages/past/builtins/misc.py:45: DeprecationWarning: the imp module is deprecated in favour of importlib; see the module's documentation for alternative uses\n",
      "  from imp import reload\n"
     ]
    }
   ],
   "source": [
    "run lda.py"
   ]
  },
  {
   "cell_type": "code",
   "execution_count": null,
   "id": "d3936425",
   "metadata": {},
   "outputs": [],
   "source": []
  }
 ],
 "metadata": {
  "kernelspec": {
   "display_name": "Python 3 (ipykernel)",
   "language": "python",
   "name": "python3"
  },
  "language_info": {
   "codemirror_mode": {
    "name": "ipython",
    "version": 3
   },
   "file_extension": ".py",
   "mimetype": "text/x-python",
   "name": "python",
   "nbconvert_exporter": "python",
   "pygments_lexer": "ipython3",
   "version": "3.9.13"
  }
 },
 "nbformat": 4,
 "nbformat_minor": 5
}
